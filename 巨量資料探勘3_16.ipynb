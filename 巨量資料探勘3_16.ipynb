{
  "nbformat": 4,
  "nbformat_minor": 0,
  "metadata": {
    "colab": {
      "name": "巨量資料探勘3/16.ipynb",
      "provenance": [],
      "collapsed_sections": []
    },
    "kernelspec": {
      "name": "python3",
      "display_name": "Python 3"
    }
  },
  "cells": [
    {
      "cell_type": "code",
      "metadata": {
        "id": "SsGtjly7cgVN"
      },
      "source": [
        "import requests\n"
      ],
      "execution_count": null,
      "outputs": []
    },
    {
      "cell_type": "code",
      "metadata": {
        "id": "Z1Tr8gN6d5rY"
      },
      "source": [
        "def retrieval_api(api_url):\n",
        "  response = requests.get(api_url)\n",
        "  # print('Status Code: ' + str(response.status_code))\n",
        "  return (response.json())"
      ],
      "execution_count": null,
      "outputs": []
    },
    {
      "cell_type": "code",
      "metadata": {
        "colab": {
          "base_uri": "https://localhost:8080/"
        },
        "id": "9ObtdOojeE0T",
        "outputId": "f31e43af-3c49-45d8-c584-595d642898c8"
      },
      "source": [
        "testurl='https://opendata.cwb.gov.tw/api/v1/rest/datastore/F-D0047-061?Authorization=CWB-B6C5F378-DBF4-4D13-A15D-754345833EF4&format=JSON&locationName=%E5%A4%A7%E5%AE%89%E5%8D%80&elementName=&timeFrom=2021-03-16T24%3A00%3A00&timeTo=2021-03-19T12%3A00%3A00'\n",
        "testJson=retrieval_api(testurl)\n",
        "#print(testJson)\n",
        "\n",
        "datasetDescription=testJson['records']['locations'][0]['datasetDescription']\n",
        "locationsName=testJson['records']['locations'][0]['locationsName']+testJson['records']['locations'][0]['location'][0]['locationName']\n",
        "print(datasetDescription+'\\n'+locationsName)\n",
        "\n",
        "list=[]\n",
        "for i in range(len(testJson['records']['locations'][0]['location'][0]['weatherElement'])):\n",
        "  list.append(testJson['records']['locations'][0]['location'][0]['weatherElement'])\n",
        "#print(len(list[0][6]['time']))\n",
        "for i in range(len(list[0][6]['time'])):\n",
        "  print(list[0][6]['time'][i]['startTime']+\" ~ \"+list[0][6]['time'][i]['endTime']+'\\t'+list[0][6]['time'][i]['elementValue'][0]['value'])\n",
        "\n"
      ],
      "execution_count": null,
      "outputs": [
        {
          "output_type": "stream",
          "text": [
            "臺灣各縣市鄉鎮未來3天(72小時)逐3小時天氣預報\n",
            "臺北市大安區\n",
            "2021-03-17 18:00:00 ~ 2021-03-17 21:00:00\t晴。降雨機率 10%。溫度攝氏25度。舒適。偏東風 平均風速2-3級(每秒4公尺)。相對濕度89%。\n",
            "2021-03-17 21:00:00 ~ 2021-03-18 00:00:00\t晴。降雨機率 10%。溫度攝氏23度。舒適。偏東風 平均風速2-3級(每秒4公尺)。相對濕度91%。\n",
            "2021-03-18 00:00:00 ~ 2021-03-18 03:00:00\t晴。降雨機率 10%。溫度攝氏23度。舒適。偏東風 平均風速1-2級(每秒3公尺)。相對濕度93%。\n",
            "2021-03-18 03:00:00 ~ 2021-03-18 06:00:00\t晴。降雨機率 10%。溫度攝氏22度。舒適。偏東風 平均風速1-2級(每秒2公尺)。相對濕度93%。\n",
            "2021-03-18 06:00:00 ~ 2021-03-18 09:00:00\t晴。降雨機率 0%。溫度攝氏20度。舒適。偏東風 平均風速1-2級(每秒3公尺)。相對濕度91%。\n",
            "2021-03-18 09:00:00 ~ 2021-03-18 12:00:00\t晴。降雨機率 0%。溫度攝氏23度。舒適。偏東風 平均風速2-3級(每秒4公尺)。相對濕度73%。\n",
            "2021-03-18 12:00:00 ~ 2021-03-18 15:00:00\t晴。降雨機率 0%。溫度攝氏27度。舒適。偏東風 平均風速1-2級(每秒3公尺)。相對濕度54%。\n",
            "2021-03-18 15:00:00 ~ 2021-03-18 18:00:00\t晴。降雨機率 0%。溫度攝氏27度。舒適。偏東風 平均風速2-3級(每秒4公尺)。相對濕度65%。\n",
            "2021-03-18 18:00:00 ~ 2021-03-18 21:00:00\t晴。降雨機率 10%。溫度攝氏24度。舒適。偏東風 平均風速1-2級(每秒3公尺)。相對濕度83%。\n",
            "2021-03-18 21:00:00 ~ 2021-03-19 00:00:00\t晴。降雨機率 10%。溫度攝氏23度。舒適。偏東風 平均風速2-3級(每秒4公尺)。相對濕度91%。\n",
            "2021-03-19 00:00:00 ~ 2021-03-19 03:00:00\t多雲。降雨機率 10%。溫度攝氏22度。舒適。東南風 平均風速1-2級(每秒3公尺)。相對濕度90%。\n",
            "2021-03-19 03:00:00 ~ 2021-03-19 06:00:00\t晴。降雨機率 10%。溫度攝氏21度。舒適。偏西風 平均風速1-2級(每秒2公尺)。相對濕度93%。\n",
            "2021-03-19 06:00:00 ~ 2021-03-19 09:00:00\t晴。降雨機率 10%。溫度攝氏20度。舒適。偏西風 平均風速1-2級(每秒3公尺)。相對濕度96%。\n",
            "2021-03-19 09:00:00 ~ 2021-03-19 12:00:00\t晴。降雨機率 10%。溫度攝氏24度。舒適。偏西風 平均風速1-2級(每秒3公尺)。相對濕度83%。\n"
          ],
          "name": "stdout"
        }
      ]
    },
    {
      "cell_type": "code",
      "metadata": {
        "id": "iJsi-u2Llv8k"
      },
      "source": [
        ""
      ],
      "execution_count": null,
      "outputs": []
    }
  ]
}